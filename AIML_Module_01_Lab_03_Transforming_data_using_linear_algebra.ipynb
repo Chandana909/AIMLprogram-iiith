{
  "nbformat": 4,
  "nbformat_minor": 0,
  "metadata": {
    "colab": {
      "provenance": [],
      "authorship_tag": "ABX9TyPc4JGrk2Qa5zpWAVqZaWkg",
      "include_colab_link": true
    },
    "kernelspec": {
      "name": "python3",
      "display_name": "Python 3"
    },
    "language_info": {
      "name": "python"
    }
  },
  "cells": [
    {
      "cell_type": "markdown",
      "metadata": {
        "id": "view-in-github",
        "colab_type": "text"
      },
      "source": [
        "<a href=\"https://colab.research.google.com/github/Chandana909/AIMLprogram-iiith/blob/main/AIML_Module_01_Lab_03_Transforming_data_using_linear_algebra.ipynb\" target=\"_parent\"><img src=\"https://colab.research.google.com/assets/colab-badge.svg\" alt=\"Open In Colab\"/></a>"
      ]
    },
    {
      "cell_type": "code",
      "execution_count": 1,
      "metadata": {
        "colab": {
          "base_uri": "https://localhost:8080/"
        },
        "id": "FMFzMCbxS5wV",
        "outputId": "7f3bcd87-a31b-4cf1-ab90-0a16450c1563"
      },
      "outputs": [
        {
          "output_type": "stream",
          "name": "stdout",
          "text": [
            "Best feature combination: (0, 2) with accuracy: 0.55\n"
          ]
        }
      ],
      "source": [
        "def feature_combination_strategy(X, y):\n",
        "    \"\"\"\n",
        "    This function demonstrates a feature combination strategy for improving model accuracy\n",
        "    in machine learning by testing pairs of features incrementally rather than adding all features at once.\n",
        "\n",
        "    Parameters:\n",
        "    X : numpy array\n",
        "        Feature set of shape (n_samples, n_features).\n",
        "    y : numpy array\n",
        "        Target variable of shape (n_samples,).\n",
        "\n",
        "    This approach helps to:\n",
        "    - Reduce overfitting by simplifying the model.\n",
        "    - Identify the most influential features through correlation and performance metrics.\n",
        "    - Use cross-validation to evaluate combinations for optimal performance.\n",
        "    \"\"\"\n",
        "import numpy as np\n",
        "from sklearn.model_selection import train_test_split\n",
        "from sklearn.neighbors import KNeighborsClassifier\n",
        "from sklearn.metrics import accuracy_score\n",
        "\n",
        "def feature_combination_strategy(X, y):\n",
        "    \"\"\"\n",
        "    This function demonstrates a feature combination strategy for improving model accuracy\n",
        "    in machine learning by testing pairs of features incrementally rather than adding all features at once.\n",
        "\n",
        "    Parameters:\n",
        "    X : numpy array\n",
        "        Feature set of shape (n_samples, n_features).\n",
        "    y : numpy array\n",
        "        Target variable of shape (n_samples,).\n",
        "\n",
        "    This approach helps to:\n",
        "    - Reduce overfitting by simplifying the model.\n",
        "    - Identify the most influential features through correlation and performance metrics.\n",
        "    - Use cross-validation to evaluate combinations for optimal performance.\n",
        "    \"\"\"\n",
        "\n",
        "    # Split the data\n",
        "    X_train, X_test, y_train, y_test = train_test_split(X, y, test_size=0.2, random_state=42)\n",
        "\n",
        "    # Store results\n",
        "    results = {}\n",
        "\n",
        "    # Define pairs of features to test (indices of features)\n",
        "    feature_pairs = [(0, 1), (0, 2), (0, 3), (1, 2), (1, 3), (2, 3)]\n",
        "\n",
        "    # Loop through pairs\n",
        "    for pair in feature_pairs:\n",
        "        # Select the relevant features\n",
        "        X_train_subset = X_train[:, pair]\n",
        "        X_test_subset = X_test[:, pair]\n",
        "\n",
        "        # Train the model\n",
        "        model = KNeighborsClassifier(n_neighbors=3)\n",
        "        model.fit(X_train_subset, y_train)\n",
        "\n",
        "        # Make predictions\n",
        "        predictions = model.predict(X_test_subset)\n",
        "\n",
        "        # Evaluate accuracy\n",
        "        accuracy = accuracy_score(y_test, predictions)\n",
        "        results[pair] = accuracy\n",
        "\n",
        "    # Find the best combination\n",
        "    best_pair = max(results, key=results.get)\n",
        "    print(\"Best feature combination:\", best_pair, \"with accuracy:\", results[best_pair])\n",
        "\n",
        "# Example usage\n",
        "# Generate dummy data (4 features)\n",
        "X = np.random.rand(100, 4)  # 100 samples, 4 features\n",
        "y = np.random.randint(0, 2, 100)  # Binary target variable\n",
        "\n",
        "# Call the function\n",
        "feature_combination_strategy(X, y)\n",
        "\n"
      ]
    }
  ]
}