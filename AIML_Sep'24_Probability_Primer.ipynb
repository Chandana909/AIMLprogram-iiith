{
  "nbformat": 4,
  "nbformat_minor": 0,
  "metadata": {
    "colab": {
      "provenance": [],
      "authorship_tag": "ABX9TyMOYbBFPl3800YY4llzZ4GZ",
      "include_colab_link": true
    },
    "kernelspec": {
      "name": "python3",
      "display_name": "Python 3"
    },
    "language_info": {
      "name": "python"
    }
  },
  "cells": [
    {
      "cell_type": "markdown",
      "metadata": {
        "id": "view-in-github",
        "colab_type": "text"
      },
      "source": [
        "<a href=\"https://colab.research.google.com/github/Chandana909/AIMLprogram-iiith/blob/main/AIML_Sep'24_Probability_Primer.ipynb\" target=\"_parent\"><img src=\"https://colab.research.google.com/assets/colab-badge.svg\" alt=\"Open In Colab\"/></a>"
      ]
    },
    {
      "cell_type": "code",
      "metadata": {
        "id": "67cg03eZ3he6"
      },
      "source": [
        "import numpy as np\n",
        "import pandas as pd\n",
        "from matplotlib import pyplot as plt\n",
        "import seaborn as sns\n",
        "\n",
        "import plotly.graph_objects as go\n",
        "import plotly.express as px\n"
      ],
      "execution_count": null,
      "outputs": []
    },
    {
      "cell_type": "code",
      "source": [
        "def toss_coin(number_of_tosses=100):\n",
        "    return pd.Series(np.random.choice(['Heads', 'Tails'], number_of_tosses))\n",
        "\n",
        "def throw_dice(number_of_tosses=100):\n",
        "    return pd.Series(np.random.randint(1, 7, number_of_tosses))  # 7 is exclusive, so it generates numbers from 1 to 6\n"
      ],
      "metadata": {
        "id": "r5Ch7dHalqM1"
      },
      "execution_count": null,
      "outputs": []
    },
    {
      "cell_type": "code",
      "source": [
        "results = toss_coin()\n",
        "print(results.value_counts())\n",
        "\n",
        "# Correct alias for plotly.graph_objects is 'go'\n",
        "fig = go.Figure([go.Bar(x=results.value_counts().keys(),\n",
        "                        y=results.value_counts().values)])\n",
        "fig.show()\n"
      ],
      "metadata": {
        "id": "ck8Ao3ealuwN"
      },
      "execution_count": null,
      "outputs": []
    },
    {
      "cell_type": "code",
      "source": [
        "results = pd.Series([np.sum(toss_coin(20) == 'Heads') for _ in range(1000)])\n",
        "\n",
        "# Correct alias for plotly.graph_objects is 'go'\n",
        "fig = go.Figure([go.Bar(x=results.value_counts().index,\n",
        "                        y=results.value_counts().values)])\n",
        "fig.show()\n"
      ],
      "metadata": {
        "id": "J16dRJwLlvhS"
      },
      "execution_count": null,
      "outputs": []
    },
    {
      "cell_type": "code",
      "source": [
        "results = pd.Series([np.sum(toss_coin(500) == 'Heads') for _ in range(5000)])\n",
        "\n",
        "# Correct alias for plotly.graph_objects is 'go'\n",
        "fig = go.Figure([go.Bar(x=results.value_counts().index,\n",
        "                        y=results.value_counts().values)])\n",
        "fig.show()\n"
      ],
      "metadata": {
        "id": "Ehf2Snd8lvjZ"
      },
      "execution_count": null,
      "outputs": []
    },
    {
      "cell_type": "code",
      "source": [
        "# Generate results for different numbers of dice throws\n",
        "results = {shots: throw_dice(shots) for shots in [10, 100, 1000, 10000, 1000000]}\n",
        "\n",
        "# Correct alias for plotly.graph_objects is 'go'\n",
        "fig = go.Figure([\n",
        "    go.Bar(\n",
        "        x=result.value_counts().index,\n",
        "        y=result.value_counts().values / shots,\n",
        "        name=f\"{shots} shots\"\n",
        "    )\n",
        "    for shots, result in results.items()\n",
        "])\n",
        "\n",
        "# Adding a reference line to represent the expected probability (1/6)\n",
        "fig.add_shape(\n",
        "    type='line',\n",
        "    x0=0.5, y0=1/6,\n",
        "    x1=6.5, y1=1/6,\n",
        "    line=dict(color='Red',),\n",
        ")\n",
        "\n",
        "# Show the plot\n",
        "fig.show()\n"
      ],
      "metadata": {
        "id": "R-4cqVJHl4KP"
      },
      "execution_count": null,
      "outputs": []
    },
    {
      "cell_type": "code",
      "source": [
        "def number_of_numbered_cards_drawn_before_ace(trials=100, show_trials=10):\n",
        "    values = ['A', '2', '3', '4', '5', '6', '7', '8', '9', '10', 'J', 'Q', 'K']\n",
        "    ranks = ['H', 'D', 'C', 'S']\n",
        "\n",
        "    # Create deck of cards\n",
        "    full_deck = [value + rank for value in values for rank in ranks]\n",
        "\n",
        "    cards_thrown_counts = []\n",
        "    for experiment in range(trials):\n",
        "        deck_of_cards = full_deck.copy()  # Reset the deck for each trial\n",
        "        np.random.shuffle(deck_of_cards)  # Shuffle the deck\n",
        "\n",
        "        cards_thrown = 0\n",
        "        cards_pile = []\n",
        "        for picked_card in deck_of_cards:\n",
        "            cards_pile.append(picked_card)\n",
        "            if picked_card[0] == 'A':\n",
        "                break\n",
        "            cards_thrown += 1\n",
        "\n",
        "        if experiment < show_trials:\n",
        "            print(cards_thrown, 'cards were thrown:', ' '.join(cards_pile))\n",
        "\n",
        "        cards_thrown_counts.append(cards_thrown)\n",
        "\n",
        "    return np.mean(cards_thrown_counts), cards_thrown_counts\n",
        "\n",
        "# Run the function\n",
        "expected_cards_thrown, cards_thrown_counts = number_of_numbered_cards_drawn_before_ace(10000)\n",
        "print(f'\\n{expected_cards_thrown:.2f} cards are tossed before we see the first ace!')\n"
      ],
      "metadata": {
        "id": "ghU5EO4Ql4Nx"
      },
      "execution_count": null,
      "outputs": []
    },
    {
      "cell_type": "code",
      "source": [
        "results = pd.Series(cards_thrown_counts)\n",
        "\n",
        "# Correct alias for plotly.graph_objects is 'go'\n",
        "fig = go.Figure([go.Bar(x=results.value_counts().index,\n",
        "                        y=results.value_counts().values)])\n",
        "\n",
        "fig.show()\n"
      ],
      "metadata": {
        "id": "xiHh48E4mHXv"
      },
      "execution_count": null,
      "outputs": []
    },
    {
      "cell_type": "code",
      "source": [
        "from matplotlib import pyplot as plt\n",
        "import numpy as np\n",
        "\n",
        "# Set the style and figure size\n",
        "plt.style.use('ggplot')\n",
        "plt.figure(figsize=(10, 10))\n",
        "\n",
        "# Generate measurements\n",
        "measurements = np.linspace(0, 12, 1000)\n",
        "\n",
        "# Plot Squared Error and Absolute Error\n",
        "plt.scatter(measurements, (measurements - 6) ** 2, label='Squared Error')\n",
        "plt.scatter(measurements, abs(measurements - 6), label='Absolute Error')\n",
        "\n",
        "# Add labels, title, and legend\n",
        "plt.xlabel('Measurements')\n",
        "plt.ylabel('Error')\n",
        "plt.title('Squared Error vs Absolute Error')\n",
        "plt.legend()\n",
        "\n",
        "# Show the plot\n",
        "plt.show()\n"
      ],
      "metadata": {
        "id": "10L8oES3mHac"
      },
      "execution_count": null,
      "outputs": []
    },
    {
      "cell_type": "code",
      "source": [
        "import pandas as pd\n",
        "\n",
        "# Load the grades data from the URL\n",
        "grades = pd.read_csv(\"https://archive.org/download/ml-fundamentals-data/machine-learning-fundamentals-data/grades.csv\")\n",
        "\n",
        "# Print the shape of the DataFrame\n",
        "print(\"Shape of the DataFrame:\", grades.shape)\n",
        "\n",
        "# Calculate and display aggregate statistics\n",
        "aggregate_stats = grades.agg([\"mean\", \"var\", \"std\"])\n",
        "print(\"\\nAggregate Statistics:\\n\", aggregate_stats)\n"
      ],
      "metadata": {
        "id": "z4Qj8szXmHdh"
      },
      "execution_count": null,
      "outputs": []
    },
    {
      "cell_type": "code",
      "source": [
        "import pandas as pd\n",
        "import seaborn as sns\n",
        "import matplotlib.pyplot as plt\n",
        "\n",
        "# Load the grades data\n",
        "grades = pd.read_csv(\"https://archive.org/download/ml-fundamentals-data/machine-learning-fundamentals-data/grades.csv\")\n",
        "\n",
        "# Create a FacetGrid\n",
        "g = sns.FacetGrid(grades.melt(\"Name\"), col=\"variable\", col_wrap=3)  # Adjust col_wrap for better layout\n",
        "g.map(plt.hist, \"value\", bins=10)  # You can adjust the number of bins as needed\n",
        "\n",
        "# Add labels and titles\n",
        "g.set_axis_labels(\"Value\", \"Frequency\")\n",
        "g.set_titles(col_template=\"{col_name}\")\n",
        "\n",
        "# Show the plot\n",
        "plt.show()\n"
      ],
      "metadata": {
        "id": "sQttQLUSmHgk"
      },
      "execution_count": null,
      "outputs": []
    },
    {
      "cell_type": "code",
      "source": [
        "import pandas as pd\n",
        "\n",
        "# Load the grades data\n",
        "grades = pd.read_csv(\"https://archive.org/download/ml-fundamentals-data/machine-learning-fundamentals-data/grades.csv\")\n",
        "\n",
        "# Check if 'Physics' column exists\n",
        "if 'Physics' in grades.columns:\n",
        "    # Standardize the 'Physics' column\n",
        "    grades[\"Physics_std\"] = (grades[\"Physics\"] - grades[\"Physics\"].mean()) / grades[\"Physics\"].std()\n",
        "    print(\"Standardized 'Physics' scores added successfully.\")\n",
        "else:\n",
        "    print(\"Column 'Physics' does not exist in the DataFrame.\")\n"
      ],
      "metadata": {
        "id": "RUqr9MsHmHjV"
      },
      "execution_count": null,
      "outputs": []
    },
    {
      "cell_type": "code",
      "source": [
        "# Load the grades data\n",
        "grades = pd.read_csv(\"https://archive.org/download/ml-fundamentals-data/machine-learning-fundamentals-data/grades.csv\")\n",
        "\n",
        "# Display the first few rows of the DataFrame\n",
        "grades.head()\n"
      ],
      "metadata": {
        "id": "kimtt19wmHl2"
      },
      "execution_count": null,
      "outputs": []
    },
    {
      "cell_type": "code",
      "source": [
        "# Standardize the 'Maths' column\n",
        "grades[\"Maths_std\"] = (grades[\"Maths\"] - grades[\"Maths\"].mean()) / grades[\"Maths\"].std()\n",
        "\n",
        "# Display the first few rows of the DataFrame\n",
        "grades.head()\n"
      ],
      "metadata": {
        "id": "4vbQrkHWmHoj"
      },
      "execution_count": null,
      "outputs": []
    },
    {
      "cell_type": "code",
      "source": [
        "from scipy.stats import binom"
      ],
      "metadata": {
        "id": "v-UdUBNPl4Q3"
      },
      "execution_count": null,
      "outputs": []
    },
    {
      "cell_type": "code",
      "source": [
        "binom.pmf(k=5, n=5, p=0.25)"
      ],
      "metadata": {
        "id": "jsF-OPKJlvl3"
      },
      "execution_count": null,
      "outputs": []
    },
    {
      "cell_type": "code",
      "source": [
        "1 - binom.pmf(k=4, n=5, p=0.75) - binom.pmf(k=5, n=5, p=0.75)"
      ],
      "metadata": {
        "id": "CAI8O_wJm9ex"
      },
      "execution_count": null,
      "outputs": []
    },
    {
      "cell_type": "code",
      "source": [
        "binom.cdf(3, n=5, p=0.75)"
      ],
      "metadata": {
        "id": "kGhwUpdzm9ha"
      },
      "execution_count": null,
      "outputs": []
    },
    {
      "cell_type": "code",
      "source": [
        "from scipy.stats import norm"
      ],
      "metadata": {
        "id": "EIsrAhz6m9ju"
      },
      "execution_count": null,
      "outputs": []
    },
    {
      "cell_type": "code",
      "source": [
        "# Generate x values\n",
        "x = np.linspace(-10, 10, 100)\n",
        "\n",
        "# Calculate the probability density functions for different normal distributions\n",
        "f1 = norm.pdf(x, loc=0, scale=1)   # μ = 0, σ = 1\n",
        "f2 = norm.pdf(x, loc=1, scale=1)   # μ = 1, σ = 1\n",
        "f3 = norm.pdf(x, loc=0, scale=2)   # μ = 0, σ = 2\n",
        "\n",
        "# Plot the distributions\n",
        "plt.plot(x, f1, label=\"$\\mu=0, \\sigma=1$\")\n",
        "plt.plot(x, f2, label=\"$\\mu=1, \\sigma=1$\")\n",
        "plt.plot(x, f3, label=\"$\\mu=0, \\sigma=2$\")\n",
        "plt.vlines(x=0, ymin=0, ymax=0.5, linestyles=\"dotted\")\n",
        "\n",
        "# Add legend and title\n",
        "plt.legend()\n",
        "plt.title(\"$\\mu$ and $\\sigma$ affect the shape of the normal distribution\")\n",
        "\n",
        "# Show the plot\n",
        "plt.show()\n"
      ],
      "metadata": {
        "id": "P2dWwattlvoD"
      },
      "execution_count": null,
      "outputs": []
    },
    {
      "cell_type": "code",
      "source": [
        "norm.cdf(0)"
      ],
      "metadata": {
        "id": "FeMJB_QwnQWU"
      },
      "execution_count": null,
      "outputs": []
    },
    {
      "cell_type": "code",
      "source": [
        "norm.ppf(0.5)"
      ],
      "metadata": {
        "id": "avfft3oTnQZG"
      },
      "execution_count": null,
      "outputs": []
    },
    {
      "cell_type": "code",
      "source": [],
      "metadata": {
        "id": "-GgiHr3tnS69"
      },
      "execution_count": null,
      "outputs": []
    },
    {
      "cell_type": "code",
      "source": [],
      "metadata": {
        "id": "OqmQ3v50nS90"
      },
      "execution_count": null,
      "outputs": []
    },
    {
      "cell_type": "code",
      "source": [],
      "metadata": {
        "id": "akgBNoCfnTAe"
      },
      "execution_count": null,
      "outputs": []
    },
    {
      "cell_type": "code",
      "metadata": {
        "id": "rEsdL9F23hfM"
      },
      "source": [
        "norm.ppf(0.84, loc=169.57, scale=7.57)"
      ],
      "execution_count": null,
      "outputs": []
    },
    {
      "cell_type": "code",
      "metadata": {
        "id": "WkfIQtqZ3hfM"
      },
      "source": [
        "169.57 + 7.57"
      ],
      "execution_count": null,
      "outputs": []
    },
    {
      "cell_type": "code",
      "metadata": {
        "id": "lWSgKwPl3hfN"
      },
      "source": [
        "norm.ppf(0.975, loc=169.57, scale=7.57)"
      ],
      "execution_count": null,
      "outputs": []
    },
    {
      "cell_type": "code",
      "metadata": {
        "id": "grKpUsPA3hfN"
      },
      "source": [
        "169.57 + 2 * 7.57"
      ],
      "execution_count": null,
      "outputs": []
    },
    {
      "cell_type": "code",
      "metadata": {
        "id": "OdyrBlxA3hfN"
      },
      "source": [
        "norm.ppf(0.0015, loc=169.57, scale=7.57)"
      ],
      "execution_count": null,
      "outputs": []
    },
    {
      "cell_type": "code",
      "metadata": {
        "id": "UNE-qNXj3hfO"
      },
      "source": [
        "169.57 - 3 * 7.57"
      ],
      "execution_count": null,
      "outputs": []
    },
    {
      "cell_type": "code",
      "metadata": {
        "id": "c1N3SE493hfO"
      },
      "source": [
        "from scipy.stats import poisson"
      ],
      "execution_count": null,
      "outputs": []
    },
    {
      "cell_type": "code",
      "metadata": {
        "id": "fJi3i-bw3hfO"
      },
      "source": [
        "# a Poisson distribution with lambda=1 can be interpreted as:\n",
        "# on average, 1 event occurs within the set time interval.\n",
        "# naturally, it is less likely that more than 1 event occurs.\n",
        "\n",
        "x = np.arange(10)\n",
        "f1 = poisson.pmf(x, mu=1)\n",
        "f2 = poisson.pmf(x, mu=2)\n",
        "f3 = poisson.pmf(x, mu=3)\n",
        "\n",
        "plt.bar(x, f1, label=\"$\\lambda=1$\")\n",
        "plt.legend()\n"
      ],
      "execution_count": null,
      "outputs": []
    },
    {
      "cell_type": "code",
      "metadata": {
        "id": "ODe9dJJQ3hfP"
      },
      "source": [
        "# the average can be calculated by multiplying the inputs with the values of the PMF\n",
        "x @ f1\n",
        "# see that this is equal to lambda"
      ],
      "execution_count": null,
      "outputs": []
    },
    {
      "cell_type": "code",
      "metadata": {
        "id": "3BKXdO313hfQ"
      },
      "source": [
        "# for lambda=2, having 2 events is a lot more likely\n",
        "\n",
        "plt.bar(x, f2, label=\"$\\lambda=2$\")\n",
        "plt.legend()"
      ],
      "execution_count": null,
      "outputs": []
    },
    {
      "cell_type": "code",
      "metadata": {
        "id": "amQSbmPL3hfQ"
      },
      "source": [
        "x @ f2"
      ],
      "execution_count": null,
      "outputs": []
    },
    {
      "cell_type": "code",
      "metadata": {
        "id": "9DlrYoRx3hfQ"
      },
      "source": [
        "x @ f3"
      ],
      "execution_count": null,
      "outputs": []
    },
    {
      "cell_type": "code",
      "metadata": {
        "id": "FVRaGYAS3hfQ"
      },
      "source": [
        "poisson.pmf(3, 5)"
      ],
      "execution_count": null,
      "outputs": []
    },
    {
      "cell_type": "code",
      "metadata": {
        "id": "RcCPOfXG3hfS"
      },
      "source": [
        "from scipy.stats import poisson"
      ],
      "execution_count": null,
      "outputs": []
    },
    {
      "cell_type": "code",
      "metadata": {
        "id": "4yyI2kzr3hfS"
      },
      "source": [
        "bins = np.arange(0, 40)\n",
        "p_pois = poisson.pmf(bins, mu=3)\n",
        "plt.plot(bins, p_pois)"
      ],
      "execution_count": null,
      "outputs": []
    },
    {
      "cell_type": "code",
      "metadata": {
        "id": "goSW7f8K3hfS"
      },
      "source": [
        "def sample_pois(_):\n",
        "    samples = poisson.rvs(mu=3, size=20)\n",
        "    return np.mean(samples)\n",
        "\n",
        "means = list(map(sample_pois, np.arange(400)))\n",
        "plt.hist(means)"
      ],
      "execution_count": null,
      "outputs": []
    }
  ]
}